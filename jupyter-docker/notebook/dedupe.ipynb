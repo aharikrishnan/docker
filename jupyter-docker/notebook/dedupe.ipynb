{
 "cells": [
  {
   "cell_type": "code",
   "execution_count": 26,
   "metadata": {},
   "outputs": [],
   "source": [
    "import os\n",
    "import sys\n",
    "\n",
    "import pandas as pd\n",
    "\n",
    "\n",
    "import sys\n",
    "reload(sys)\n",
    "sys.setdefaultencoding(\"utf-8\")"
   ]
  },
  {
   "cell_type": "code",
   "execution_count": 2,
   "metadata": {},
   "outputs": [
    {
     "data": {
      "text/html": [
       "<div>\n",
       "<style>\n",
       "    .dataframe thead tr:only-child th {\n",
       "        text-align: right;\n",
       "    }\n",
       "\n",
       "    .dataframe thead th {\n",
       "        text-align: left;\n",
       "    }\n",
       "\n",
       "    .dataframe tbody tr th {\n",
       "        vertical-align: top;\n",
       "    }\n",
       "</style>\n",
       "<table border=\"1\" class=\"dataframe\">\n",
       "  <thead>\n",
       "    <tr style=\"text-align: right;\">\n",
       "      <th></th>\n",
       "      <th>p_brand</th>\n",
       "      <th>pc_cat_name</th>\n",
       "      <th>parent_pc_cat_name</th>\n",
       "      <th>count_occurence</th>\n",
       "    </tr>\n",
       "  </thead>\n",
       "  <tbody>\n",
       "    <tr>\n",
       "      <th>0</th>\n",
       "      <td>geeken</td>\n",
       "      <td>chairs-office</td>\n",
       "      <td>furniture</td>\n",
       "      <td>181</td>\n",
       "    </tr>\n",
       "    <tr>\n",
       "      <th>1</th>\n",
       "      <td>stellar</td>\n",
       "      <td>chairs-office</td>\n",
       "      <td>furniture</td>\n",
       "      <td>136</td>\n",
       "    </tr>\n",
       "    <tr>\n",
       "      <th>2</th>\n",
       "      <td>godrej</td>\n",
       "      <td>chairs-office</td>\n",
       "      <td>furniture</td>\n",
       "      <td>92</td>\n",
       "    </tr>\n",
       "    <tr>\n",
       "      <th>3</th>\n",
       "      <td>godrej interio</td>\n",
       "      <td>chairs-office</td>\n",
       "      <td>furniture</td>\n",
       "      <td>88</td>\n",
       "    </tr>\n",
       "    <tr>\n",
       "      <th>4</th>\n",
       "      <td>nilkamal</td>\n",
       "      <td>chairs-office</td>\n",
       "      <td>furniture</td>\n",
       "      <td>83</td>\n",
       "    </tr>\n",
       "    <tr>\n",
       "      <th>5</th>\n",
       "      <td>hans</td>\n",
       "      <td>chairs-office</td>\n",
       "      <td>furniture</td>\n",
       "      <td>76</td>\n",
       "    </tr>\n",
       "    <tr>\n",
       "      <th>6</th>\n",
       "      <td>vj interior</td>\n",
       "      <td>chairs-office</td>\n",
       "      <td>furniture</td>\n",
       "      <td>61</td>\n",
       "    </tr>\n",
       "    <tr>\n",
       "      <th>7</th>\n",
       "      <td>supreme</td>\n",
       "      <td>chairs-office</td>\n",
       "      <td>furniture</td>\n",
       "      <td>60</td>\n",
       "    </tr>\n",
       "    <tr>\n",
       "      <th>8</th>\n",
       "      <td>veeton</td>\n",
       "      <td>chairs-office</td>\n",
       "      <td>furniture</td>\n",
       "      <td>56</td>\n",
       "    </tr>\n",
       "    <tr>\n",
       "      <th>9</th>\n",
       "      <td>efc</td>\n",
       "      <td>chairs-office</td>\n",
       "      <td>furniture</td>\n",
       "      <td>52</td>\n",
       "    </tr>\n",
       "  </tbody>\n",
       "</table>\n",
       "</div>"
      ],
      "text/plain": [
       "          p_brand     pc_cat_name parent_pc_cat_name  count_occurence\n",
       "0          geeken   chairs-office          furniture              181\n",
       "1         stellar   chairs-office          furniture              136\n",
       "2          godrej   chairs-office          furniture               92\n",
       "3  godrej interio   chairs-office          furniture               88\n",
       "4        nilkamal   chairs-office          furniture               83\n",
       "5            hans   chairs-office          furniture               76\n",
       "6     vj interior   chairs-office          furniture               61\n",
       "7         supreme   chairs-office          furniture               60\n",
       "8          veeton   chairs-office          furniture               56\n",
       "9             efc   chairs-office          furniture               52"
      ]
     },
     "execution_count": 2,
     "metadata": {},
     "output_type": "execute_result"
    }
   ],
   "source": [
    "brands = pd.read_csv('/root/dedupe-examples/csv_example/brands.tsv', sep='\\t')\n",
    "brands.head(10)"
   ]
  },
  {
   "cell_type": "code",
   "execution_count": 3,
   "metadata": {},
   "outputs": [],
   "source": [
    "grouped_brand = brands.groupby(['p_brand', 'pc_cat_name'])"
   ]
  },
  {
   "cell_type": "code",
   "execution_count": 4,
   "metadata": {},
   "outputs": [],
   "source": [
    "grouped_brand_max = grouped_brand.agg({'count_occurence':'max'}).reset_index()"
   ]
  },
  {
   "cell_type": "code",
   "execution_count": 5,
   "metadata": {},
   "outputs": [],
   "source": [
    "brand_max = grouped_brand_max.groupby(['p_brand']).first() \\\n",
    ".reset_index()\\\n",
    ".sort_values(by=['count_occurence'], ascending=0)"
   ]
  },
  {
   "cell_type": "code",
   "execution_count": 6,
   "metadata": {},
   "outputs": [],
   "source": [
    "brand_max.to_csv('/root/dedupe-examples/csv_example/gem_500.tsv',sep='\\t', index=False)"
   ]
  },
  {
   "cell_type": "code",
   "execution_count": 7,
   "metadata": {},
   "outputs": [
    {
     "data": {
      "text/html": [
       "<div>\n",
       "<style>\n",
       "    .dataframe thead tr:only-child th {\n",
       "        text-align: right;\n",
       "    }\n",
       "\n",
       "    .dataframe thead th {\n",
       "        text-align: left;\n",
       "    }\n",
       "\n",
       "    .dataframe tbody tr th {\n",
       "        vertical-align: top;\n",
       "    }\n",
       "</style>\n",
       "<table border=\"1\" class=\"dataframe\">\n",
       "  <thead>\n",
       "    <tr style=\"text-align: right;\">\n",
       "      <th></th>\n",
       "      <th>p_brand</th>\n",
       "      <th>pc_cat_name</th>\n",
       "      <th>count_occurence</th>\n",
       "    </tr>\n",
       "  </thead>\n",
       "  <tbody>\n",
       "    <tr>\n",
       "      <th>42597</th>\n",
       "      <td>voltas</td>\n",
       "      <td>Air Conditioner</td>\n",
       "      <td>828</td>\n",
       "    </tr>\n",
       "    <tr>\n",
       "      <th>24971</th>\n",
       "      <td>lenovo</td>\n",
       "      <td>All in one</td>\n",
       "      <td>474</td>\n",
       "    </tr>\n",
       "    <tr>\n",
       "      <th>20341</th>\n",
       "      <td>hp original cartriadge</td>\n",
       "      <td>printer ink cartridges</td>\n",
       "      <td>411</td>\n",
       "    </tr>\n",
       "    <tr>\n",
       "      <th>20342</th>\n",
       "      <td>hp original cartridge</td>\n",
       "      <td>printer ink cartridges</td>\n",
       "      <td>368</td>\n",
       "    </tr>\n",
       "    <tr>\n",
       "      <th>11306</th>\n",
       "      <td>dell</td>\n",
       "      <td>All in one</td>\n",
       "      <td>363</td>\n",
       "    </tr>\n",
       "  </tbody>\n",
       "</table>\n",
       "</div>"
      ],
      "text/plain": [
       "                      p_brand             pc_cat_name  count_occurence\n",
       "42597                  voltas         Air Conditioner              828\n",
       "24971                  lenovo              All in one              474\n",
       "20341  hp original cartriadge  printer ink cartridges              411\n",
       "20342   hp original cartridge  printer ink cartridges              368\n",
       "11306                    dell              All in one              363"
      ]
     },
     "execution_count": 7,
     "metadata": {},
     "output_type": "execute_result"
    }
   ],
   "source": [
    "brand_max.head()"
   ]
  },
  {
   "cell_type": "code",
   "execution_count": 8,
   "metadata": {},
   "outputs": [
    {
     "data": {
      "text/html": [
       "<div>\n",
       "<style>\n",
       "    .dataframe thead tr:only-child th {\n",
       "        text-align: right;\n",
       "    }\n",
       "\n",
       "    .dataframe thead th {\n",
       "        text-align: left;\n",
       "    }\n",
       "\n",
       "    .dataframe tbody tr th {\n",
       "        vertical-align: top;\n",
       "    }\n",
       "</style>\n",
       "<table border=\"1\" class=\"dataframe\">\n",
       "  <thead>\n",
       "    <tr style=\"text-align: right;\">\n",
       "      <th></th>\n",
       "      <th>Cluster ID</th>\n",
       "      <th>confidence_score</th>\n",
       "      <th>p_brand</th>\n",
       "      <th>pc_cat_name</th>\n",
       "      <th>count_occurence</th>\n",
       "      <th>canonical_count_occurence</th>\n",
       "      <th>canonical_pc_cat_name</th>\n",
       "      <th>canonical_p_brand</th>\n",
       "    </tr>\n",
       "  </thead>\n",
       "  <tbody>\n",
       "    <tr>\n",
       "      <th>0</th>\n",
       "      <td>0</td>\n",
       "      <td>0.576558</td>\n",
       "      <td>voltas</td>\n",
       "      <td>Air Conditioner</td>\n",
       "      <td>828</td>\n",
       "      <td>10.0</td>\n",
       "      <td>air conditioner</td>\n",
       "      <td>voltas</td>\n",
       "    </tr>\n",
       "    <tr>\n",
       "      <th>1</th>\n",
       "      <td>1</td>\n",
       "      <td>0.564770</td>\n",
       "      <td>lenovo</td>\n",
       "      <td>All in one</td>\n",
       "      <td>474</td>\n",
       "      <td>15.0</td>\n",
       "      <td>desktops</td>\n",
       "      <td>lenovo</td>\n",
       "    </tr>\n",
       "    <tr>\n",
       "      <th>2</th>\n",
       "      <td>2</td>\n",
       "      <td>0.025881</td>\n",
       "      <td>hp original cartriadge</td>\n",
       "      <td>printer ink cartridges</td>\n",
       "      <td>411</td>\n",
       "      <td>104.0</td>\n",
       "      <td>printer ink cartridges</td>\n",
       "      <td>hp</td>\n",
       "    </tr>\n",
       "    <tr>\n",
       "      <th>3</th>\n",
       "      <td>2</td>\n",
       "      <td>0.028977</td>\n",
       "      <td>hp original cartridge</td>\n",
       "      <td>printer ink cartridges</td>\n",
       "      <td>368</td>\n",
       "      <td>104.0</td>\n",
       "      <td>printer ink cartridges</td>\n",
       "      <td>hp</td>\n",
       "    </tr>\n",
       "    <tr>\n",
       "      <th>4</th>\n",
       "      <td>92</td>\n",
       "      <td>0.535665</td>\n",
       "      <td>dell</td>\n",
       "      <td>All in one</td>\n",
       "      <td>363</td>\n",
       "      <td>11.0</td>\n",
       "      <td>desktops</td>\n",
       "      <td>dell</td>\n",
       "    </tr>\n",
       "  </tbody>\n",
       "</table>\n",
       "</div>"
      ],
      "text/plain": [
       "   Cluster ID  confidence_score                 p_brand  \\\n",
       "0           0          0.576558                  voltas   \n",
       "1           1          0.564770                  lenovo   \n",
       "2           2          0.025881  hp original cartriadge   \n",
       "3           2          0.028977   hp original cartridge   \n",
       "4          92          0.535665                    dell   \n",
       "\n",
       "              pc_cat_name  count_occurence  canonical_count_occurence  \\\n",
       "0         Air Conditioner              828                       10.0   \n",
       "1              All in one              474                       15.0   \n",
       "2  printer ink cartridges              411                      104.0   \n",
       "3  printer ink cartridges              368                      104.0   \n",
       "4              All in one              363                       11.0   \n",
       "\n",
       "    canonical_pc_cat_name canonical_p_brand  \n",
       "0         air conditioner           voltas   \n",
       "1                desktops           lenovo   \n",
       "2  printer ink cartridges               hp   \n",
       "3  printer ink cartridges               hp   \n",
       "4                desktops             dell   "
      ]
     },
     "execution_count": 8,
     "metadata": {},
     "output_type": "execute_result"
    }
   ],
   "source": [
    "brand_dedup = pd.read_csv('/root/dedupe-examples/csv_example/gem_output.csv')\n",
    "brand_dedup.head(5)"
   ]
  },
  {
   "cell_type": "code",
   "execution_count": 9,
   "metadata": {},
   "outputs": [
    {
     "data": {
      "text/plain": [
       "15449"
      ]
     },
     "execution_count": 9,
     "metadata": {},
     "output_type": "execute_result"
    }
   ],
   "source": [
    "len(brand_dedup['Cluster ID'].unique())"
   ]
  },
  {
   "cell_type": "code",
   "execution_count": 10,
   "metadata": {},
   "outputs": [
    {
     "data": {
      "text/plain": [
       "44143"
      ]
     },
     "execution_count": 10,
     "metadata": {},
     "output_type": "execute_result"
    }
   ],
   "source": [
    "len(brand_dedup)"
   ]
  },
  {
   "cell_type": "code",
   "execution_count": 88,
   "metadata": {},
   "outputs": [],
   "source": [
    "b = brands\n",
    "b['all_categories'] = b['pc_cat_name']"
   ]
  },
  {
   "cell_type": "code",
   "execution_count": 89,
   "metadata": {},
   "outputs": [],
   "source": [
    "z = b.groupby(['p_brand'])['all_categories'].apply(lambda x:\" | \".join(x)).reset_index()"
   ]
  },
  {
   "cell_type": "code",
   "execution_count": 90,
   "metadata": {},
   "outputs": [
    {
     "data": {
      "text/html": [
       "<div>\n",
       "<style>\n",
       "    .dataframe thead tr:only-child th {\n",
       "        text-align: right;\n",
       "    }\n",
       "\n",
       "    .dataframe thead th {\n",
       "        text-align: left;\n",
       "    }\n",
       "\n",
       "    .dataframe tbody tr th {\n",
       "        vertical-align: top;\n",
       "    }\n",
       "</style>\n",
       "<table border=\"1\" class=\"dataframe\">\n",
       "  <thead>\n",
       "    <tr style=\"text-align: right;\">\n",
       "      <th></th>\n",
       "      <th>p_brand</th>\n",
       "      <th>all_categories</th>\n",
       "    </tr>\n",
       "  </thead>\n",
       "  <tbody>\n",
       "    <tr>\n",
       "      <th>0</th>\n",
       "      <td>&amp;#x28;colin&amp;#x29;&amp;#x28;500ml&amp;#x29;</td>\n",
       "      <td>glass or window cleaners</td>\n",
       "    </tr>\n",
       "    <tr>\n",
       "      <th>1</th>\n",
       "      <td>&amp;#x28;dettol&amp;#x29;</td>\n",
       "      <td>liquid handwash</td>\n",
       "    </tr>\n",
       "    <tr>\n",
       "      <th>2</th>\n",
       "      <td>&amp;#x28;gainda&amp;#x29;&amp;#x28;5ltr&amp;#x29;</td>\n",
       "      <td>phenyl</td>\n",
       "    </tr>\n",
       "    <tr>\n",
       "      <th>3</th>\n",
       "      <td>&amp;#x28;hp-kay pee enterprises &amp;#x28;hp rsr&amp;#x29;</td>\n",
       "      <td>printer ink cartridges</td>\n",
       "    </tr>\n",
       "    <tr>\n",
       "      <th>4</th>\n",
       "      <td>&amp;#x28;natraj</td>\n",
       "      <td>Wooden Pencil</td>\n",
       "    </tr>\n",
       "  </tbody>\n",
       "</table>\n",
       "</div>"
      ],
      "text/plain": [
       "                                           p_brand            all_categories\n",
       "0               &#x28;colin&#x29;&#x28;500ml&#x29;  glass or window cleaners\n",
       "1                               &#x28;dettol&#x29;           liquid handwash\n",
       "2               &#x28;gainda&#x29;&#x28;5ltr&#x29;                    phenyl\n",
       "3  &#x28;hp-kay pee enterprises &#x28;hp rsr&#x29;    printer ink cartridges\n",
       "4                                     &#x28;natraj             Wooden Pencil"
      ]
     },
     "execution_count": 90,
     "metadata": {},
     "output_type": "execute_result"
    }
   ],
   "source": [
    "z.head()"
   ]
  },
  {
   "cell_type": "code",
   "execution_count": 91,
   "metadata": {},
   "outputs": [],
   "source": [
    "brand_other_cat = z"
   ]
  },
  {
   "cell_type": "code",
   "execution_count": 92,
   "metadata": {},
   "outputs": [],
   "source": [
    "result = pd.merge(brand_dedup, brand_other_cat, on=['p_brand'])"
   ]
  },
  {
   "cell_type": "code",
   "execution_count": 93,
   "metadata": {},
   "outputs": [
    {
     "data": {
      "text/plain": [
       "44143"
      ]
     },
     "execution_count": 93,
     "metadata": {},
     "output_type": "execute_result"
    }
   ],
   "source": [
    "len(result)"
   ]
  },
  {
   "cell_type": "code",
   "execution_count": 94,
   "metadata": {
    "scrolled": true
   },
   "outputs": [
    {
     "data": {
      "text/html": [
       "<div>\n",
       "<style>\n",
       "    .dataframe thead tr:only-child th {\n",
       "        text-align: right;\n",
       "    }\n",
       "\n",
       "    .dataframe thead th {\n",
       "        text-align: left;\n",
       "    }\n",
       "\n",
       "    .dataframe tbody tr th {\n",
       "        vertical-align: top;\n",
       "    }\n",
       "</style>\n",
       "<table border=\"1\" class=\"dataframe\">\n",
       "  <thead>\n",
       "    <tr style=\"text-align: right;\">\n",
       "      <th></th>\n",
       "      <th>Cluster ID</th>\n",
       "      <th>confidence_score</th>\n",
       "      <th>p_brand</th>\n",
       "      <th>pc_cat_name</th>\n",
       "      <th>count_occurence</th>\n",
       "      <th>canonical_count_occurence</th>\n",
       "      <th>canonical_pc_cat_name</th>\n",
       "      <th>canonical_p_brand</th>\n",
       "      <th>all_categories</th>\n",
       "    </tr>\n",
       "  </thead>\n",
       "  <tbody>\n",
       "    <tr>\n",
       "      <th>0</th>\n",
       "      <td>0</td>\n",
       "      <td>0.576558</td>\n",
       "      <td>voltas</td>\n",
       "      <td>Air Conditioner</td>\n",
       "      <td>828</td>\n",
       "      <td>10.0</td>\n",
       "      <td>air conditioner</td>\n",
       "      <td>voltas</td>\n",
       "      <td>Air Conditioner | automatic line voltage corre...</td>\n",
       "    </tr>\n",
       "    <tr>\n",
       "      <th>1</th>\n",
       "      <td>1</td>\n",
       "      <td>0.564770</td>\n",
       "      <td>lenovo</td>\n",
       "      <td>All in one</td>\n",
       "      <td>474</td>\n",
       "      <td>15.0</td>\n",
       "      <td>desktops</td>\n",
       "      <td>lenovo</td>\n",
       "      <td>All in one | bag kit universal | bar code read...</td>\n",
       "    </tr>\n",
       "    <tr>\n",
       "      <th>2</th>\n",
       "      <td>2</td>\n",
       "      <td>0.025881</td>\n",
       "      <td>hp original cartriadge</td>\n",
       "      <td>printer ink cartridges</td>\n",
       "      <td>411</td>\n",
       "      <td>104.0</td>\n",
       "      <td>printer ink cartridges</td>\n",
       "      <td>hp</td>\n",
       "      <td>printer ink cartridges</td>\n",
       "    </tr>\n",
       "  </tbody>\n",
       "</table>\n",
       "</div>"
      ],
      "text/plain": [
       "   Cluster ID  confidence_score                 p_brand  \\\n",
       "0           0          0.576558                  voltas   \n",
       "1           1          0.564770                  lenovo   \n",
       "2           2          0.025881  hp original cartriadge   \n",
       "\n",
       "              pc_cat_name  count_occurence  canonical_count_occurence  \\\n",
       "0         Air Conditioner              828                       10.0   \n",
       "1              All in one              474                       15.0   \n",
       "2  printer ink cartridges              411                      104.0   \n",
       "\n",
       "    canonical_pc_cat_name canonical_p_brand  \\\n",
       "0         air conditioner           voltas    \n",
       "1                desktops           lenovo    \n",
       "2  printer ink cartridges               hp    \n",
       "\n",
       "                                      all_categories  \n",
       "0  Air Conditioner | automatic line voltage corre...  \n",
       "1  All in one | bag kit universal | bar code read...  \n",
       "2                             printer ink cartridges  "
      ]
     },
     "execution_count": 94,
     "metadata": {},
     "output_type": "execute_result"
    }
   ],
   "source": [
    "result.head(3)"
   ]
  },
  {
   "cell_type": "code",
   "execution_count": 95,
   "metadata": {},
   "outputs": [],
   "source": [
    "result.sort_values(['Cluster ID']).to_csv('/root/dedupe-examples/csv_example/gem_output_merged.tsv',sep='\\t', index=False)"
   ]
  },
  {
   "cell_type": "code",
   "execution_count": 112,
   "metadata": {},
   "outputs": [],
   "source": [
    "# cwd = '/root/dedupe-examples/csv_example/'\n",
    "# os.chdir(cwd)\n",
    "# %run gem.py"
   ]
  }
 ],
 "metadata": {
  "kernelspec": {
   "display_name": "Python 2",
   "language": "python",
   "name": "python2"
  },
  "language_info": {
   "codemirror_mode": {
    "name": "ipython",
    "version": 2
   },
   "file_extension": ".py",
   "mimetype": "text/x-python",
   "name": "python",
   "nbconvert_exporter": "python",
   "pygments_lexer": "ipython2",
   "version": "2.7.13"
  }
 },
 "nbformat": 4,
 "nbformat_minor": 2
}
